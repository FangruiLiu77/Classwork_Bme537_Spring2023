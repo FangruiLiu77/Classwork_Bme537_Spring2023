{
 "cells": [
  {
   "cell_type": "code",
   "execution_count": 2,
   "id": "21d3fa7a",
   "metadata": {},
   "outputs": [
    {
     "name": "stdout",
     "output_type": "stream",
     "text": [
      "4\n"
     ]
    }
   ],
   "source": [
    "x = 4\n",
    "print(x)"
   ]
  },
  {
   "cell_type": "markdown",
   "id": "0670eac1",
   "metadata": {},
   "source": [
    "# Markdown\n",
    "* Hello\n",
    "* Goodbye"
   ]
  },
  {
   "cell_type": "code",
   "execution_count": null,
   "id": "4acd183e",
   "metadata": {},
   "outputs": [],
   "source": []
  }
 ],
 "metadata": {
  "kernelspec": {
   "display_name": "Python 3 (ipykernel)",
   "language": "python",
   "name": "python3"
  },
  "language_info": {
   "codemirror_mode": {
    "name": "ipython",
    "version": 3
   },
   "file_extension": ".py",
   "mimetype": "text/x-python",
   "name": "python",
   "nbconvert_exporter": "python",
   "pygments_lexer": "ipython3",
   "version": "3.9.12"
  }
 },
 "nbformat": 4,
 "nbformat_minor": 5
}
